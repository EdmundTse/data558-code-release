{
 "cells": [
  {
   "cell_type": "markdown",
   "metadata": {},
   "source": [
    "# DATA558 Code Release"
   ]
  },
  {
   "cell_type": "markdown",
   "metadata": {},
   "source": [
    "## Python implementation of a linear SVM"
   ]
  },
  {
   "cell_type": "code",
   "execution_count": 1,
   "metadata": {},
   "outputs": [],
   "source": [
    "import pandas as pd\n",
    "import numpy as np\n",
    "from sklearn import preprocessing\n",
    "import warnings"
   ]
  },
  {
   "cell_type": "markdown",
   "metadata": {},
   "source": [
    "### Training a linear SVM using fast gradient method\n",
    "We implement a linear support vector machine that uses a squared hinge loss function with an l2 regularisation term. We use the fast gradient method to minimise the loss function with respect to the training data."
   ]
  },
  {
   "cell_type": "code",
   "execution_count": 2,
   "metadata": {},
   "outputs": [],
   "source": [
    "def linear_svm(x, y, l, eta_init=1., max_iter=1000, eps=1e-2, include_steps=False):\n",
    "    \"\"\"Trains a two-class linear support vector machine using the squared hinge loss\n",
    "    function. This functions implements a fast gradient descent algorithm to optimise\n",
    "    the loss function with an l2 regularisation term.\n",
    "    \n",
    "    :param x: Training features, as a (d x n) 2d array\n",
    "    :param y: Training labels, as a (n x 1) 1d array of values +/- 1\n",
    "    :param l: Regularisation parameter; \"lambda\" in the equation\n",
    "    :param eta_init: The initial step size used in backtracking line search\n",
    "    :param max_iter: The maxmimum number of iterations for gradient descent\n",
    "    :param eps: The tolerance for the stopping criteron\n",
    "    :param include_steps: Whether to include the steps of intermediate steps of\n",
    "    iteratively optimising the decision vectors of the linear SVM.\n",
    "    \n",
    "    :returns: either the best trained weights for the input features, or if\n",
    "    include_steps is True, then also the sequence of trained weights from\n",
    "    every iteration of the fast gradient method.\n",
    "    \"\"\"\n",
    "    \n",
    "    if np.any(np.isin(np.unique(y), [-1, 1], invert=True)):\n",
    "        raise ValueError('labels of y must be either -1 or +1')\n",
    "    \n",
    "    d, n = x.shape\n",
    "    beta = np.zeros(d, dtype=x.dtype)\n",
    "    theta = np.zeros(d, dtype=x.dtype)\n",
    "    \n",
    "    grad = grad_squared_hinge(x, y, beta, l)\n",
    "    t = 0\n",
    "    betas = [beta]\n",
    "    while np.linalg.norm(grad) > eps and t < max_iter:\n",
    "        eta = backtracking(x, y, theta, l, eta_init)\n",
    "        new_beta = theta - eta * grad_squared_hinge(x, y, theta, l)\n",
    "        theta = new_beta + t / (t + 3) * (new_beta - beta)\n",
    "        beta = new_beta\n",
    "        betas.append(beta)\n",
    "        grad = grad_squared_hinge(x, y, beta, l)\n",
    "        t += 1\n",
    "    \n",
    "    if t == max_iter:\n",
    "        warnings.warn('SVM: Max iterations %d reached. l=%.2e, norm_grad=%.4f' % (max_iter, l, np.linalg.norm(grad)))\n",
    "    \n",
    "    return betas if include_steps else betas[-1]"
   ]
  },
  {
   "cell_type": "markdown",
   "metadata": {},
   "source": [
    "### Backtracking line search\n",
    "For each iteration in our fast gradient method, we use backtracking line search to find the update step size. This algorithm is implemented below:"
   ]
  },
  {
   "cell_type": "code",
   "execution_count": 3,
   "metadata": {},
   "outputs": [],
   "source": [
    "def backtracking(x, y, beta, l, eta, alpha=0.5, gamma=0.8, max_iter=100):\n",
    "    \"\"\"Perform backtracking line search\n",
    "    \n",
    "    :param x: Training features, as a (d x n) 2d array\n",
    "    :param y: Training labels, as a (n x 1) 1d array of values +/- 1\n",
    "    :param beta: The current point, as a vector in d-dimensions\n",
    "    :param l: Regularisation parameter; \"lambda\" in the equation\n",
    "    :param eta: The initial step size to use\n",
    "    :param alpha: A constant used to define when there is a sufficient decrease\n",
    "    :param gamma: Factor by which to decrease t at each backtracking iteration\n",
    "    :param max_iter: The maxmimum number of iterations of backtracking\n",
    "    :returns the step size to use\n",
    "    \"\"\"\n",
    "    obj_beta = squared_hinge(x, y, beta, l)\n",
    "    grad_beta = grad_squared_hinge(x, y, beta, l)\n",
    "    norm_grad_beta_squared = grad_beta.T @ grad_beta\n",
    "    found_eta = False\n",
    "    i = 0\n",
    "    while found_eta == False and i < max_iter:\n",
    "        lhs = squared_hinge(x, y, beta - eta * grad_beta, l)\n",
    "        rhs = obj_beta - alpha * eta * norm_grad_beta_squared\n",
    "        if lhs < rhs or np.isclose(lhs, rhs):\n",
    "            found_eta = True\n",
    "        else:\n",
    "            eta *= gamma\n",
    "            i += 1\n",
    "        \n",
    "    if i == max_iter:\n",
    "        raise Exception('BT: Max iterations reached.')\n",
    "    \n",
    "    if np.isclose(eta, 0):\n",
    "        warnings.warn('BT: Returned step size close to zero')\n",
    "    \n",
    "    return eta"
   ]
  },
  {
   "cell_type": "markdown",
   "metadata": {},
   "source": [
    "### Objective function: squared hinge loss with $\\ell_2$ regularisation\n",
    "Gradient descent requires us to compute the both the objective function and its gradient, which we implement below:\n",
    "\n",
    "$$\n",
    "F(\\beta) =\n",
    "\\frac{1}{n} \\sum_{i=1}^n \\left( \\max(0, 1 - y_i x_i^T \\beta) \\right)^2 + \\lambda \\lVert \\beta \\rVert_2^2\n",
    "$$\n",
    "\n",
    "$$\n",
    "\\nabla F(\\beta)\n",
    "= - \\frac{2}{n} \\sum_{i=1}^n y_i x_i \\max(0, 1 - y_i x_i^T \\beta) + 2\\lambda\\beta\n",
    "$$"
   ]
  },
  {
   "cell_type": "code",
   "execution_count": 4,
   "metadata": {},
   "outputs": [],
   "source": [
    "def squared_hinge(x, y, beta, l):\n",
    "    loss = 1 - y * (x.T @ beta)\n",
    "    loss = np.mean(np.power(loss * (loss > 0), 2))\n",
    "    penalty = l * (beta.T @ beta)\n",
    "    return loss + penalty"
   ]
  },
  {
   "cell_type": "code",
   "execution_count": 5,
   "metadata": {},
   "outputs": [
    {
     "name": "stdout",
     "output_type": "stream",
     "text": [
      "Test using random seed: 7409\n",
      "Test using random seed: 7826\n",
      "Test using random seed: 4777\n"
     ]
    }
   ],
   "source": [
    "def test_squared_hinge(seed=None):\n",
    "    if seed is None:\n",
    "        seed = np.random.randint(10000)\n",
    "    \n",
    "    print('Test using random seed: %d' % seed)\n",
    "    np.random.seed(seed)\n",
    "    n = 100\n",
    "    d = 20\n",
    "\n",
    "    # When all beta is zero, the max would always give 1-0=1\n",
    "    x = np.random.normal(size=(d,n))\n",
    "    y = np.random.choice([1, -1], n).astype(x.dtype)\n",
    "    beta = np.zeros(d, dtype=x.dtype)\n",
    "    l = 0.\n",
    "    sum_yixi = sum([y[i] * x[:,i] for i in range(n)])\n",
    "    assert np.isclose(squared_hinge(x, y, beta, l),\n",
    "                      1 + l * np.linalg.norm(beta)**2)\n",
    "\n",
    "    # When y_i x_i^T beta >1, max should make it zero\n",
    "    x = np.random.uniform(1, 1234, size=(d,n))\n",
    "    y = np.ones(n, dtype=x.dtype)\n",
    "    beta = np.random.uniform(1, 10, d)\n",
    "    l = 0.\n",
    "    assert np.isclose(squared_hinge(x, y, beta, l), 0)\n",
    "\n",
    "    # When all x is zero, the max would always give 1-0=1\n",
    "    x = np.zeros((d,n), dtype=np.float64)\n",
    "    y = np.random.choice([1, -1], n).astype(x.dtype)\n",
    "    beta = np.random.normal(size=d)\n",
    "    l = np.random.randint(1234)\n",
    "    assert np.isclose(squared_hinge(x, y, beta, l),\n",
    "                      1 + l * np.linalg.norm(beta)**2)\n",
    "    \n",
    "    # Sum things the slow way\n",
    "    x = np.random.normal(size=(d,n))\n",
    "    y = np.random.choice([1, -1], n).astype(x.dtype)\n",
    "    beta = np.random.normal(size=d)\n",
    "    l = np.random.uniform(0, 10)\n",
    "    summation = sum([max(0, 1 - y[i] * x[:,i].dot(beta))**2 for i in range(n)])\n",
    "    soln = 1/n * summation + l * np.linalg.norm(beta)**2\n",
    "    assert np.isclose(squared_hinge(x, y, beta, l),\n",
    "                      soln)\n",
    "\n",
    "for i in range(3):\n",
    "    test_squared_hinge()"
   ]
  },
  {
   "cell_type": "markdown",
   "metadata": {},
   "source": [
    "### Gradient of the objective function"
   ]
  },
  {
   "cell_type": "code",
   "execution_count": 6,
   "metadata": {},
   "outputs": [],
   "source": [
    "def grad_squared_hinge(x, y, beta, l):\n",
    "    yx = y * x\n",
    "    loss = 1 - yx.T @ beta\n",
    "    loss = -2 * np.mean(yx * loss * (loss > 0), axis=1)\n",
    "    penalty = 2 * l * beta\n",
    "    return loss + penalty"
   ]
  },
  {
   "cell_type": "code",
   "execution_count": 7,
   "metadata": {},
   "outputs": [
    {
     "name": "stdout",
     "output_type": "stream",
     "text": [
      "Test using random seed: 957\n",
      "Test using random seed: 362\n",
      "Test using random seed: 4331\n"
     ]
    }
   ],
   "source": [
    "def test_grad_squared_hinge(seed=None):\n",
    "    if seed is None:\n",
    "        seed = np.random.randint(10000)\n",
    "        \n",
    "    print('Test using random seed: %d' % seed)\n",
    "    np.random.seed(seed)\n",
    "    n = 100\n",
    "    d = 20\n",
    "    \n",
    "    # When all x is zero, then we should only be up to the regularisation\n",
    "    x = np.zeros((d,n), dtype=np.float64)\n",
    "    y = np.random.choice([1, -1], n).astype(x.dtype)\n",
    "    beta = np.random.normal(size=d)\n",
    "    l = np.random.randint(1234)\n",
    "    np.testing.assert_allclose(grad_squared_hinge(x, y, beta, l), 2 * l * beta)\n",
    "    \n",
    "    # When all beta is zero, the max would always give 1-0=1\n",
    "    x = np.random.normal(size=(d,n))\n",
    "    y = np.random.choice([1, -1], n).astype(x.dtype)\n",
    "    beta = np.zeros(d)\n",
    "    l = 0\n",
    "    sum_yixi = sum([y[i] * x[:,i] for i in range(n)])\n",
    "    np.testing.assert_allclose(grad_squared_hinge(x, y, beta, l), -2 / n * sum_yixi)\n",
    "    \n",
    "    # When y_i x_i^T beta >1, max should make it zero\n",
    "    x = np.random.uniform(1, 1234, size=(d,n))\n",
    "    y = np.ones(n).astype(x.dtype)\n",
    "    beta = np.random.uniform(1, 10, d)\n",
    "    l = 0\n",
    "    np.testing.assert_allclose(grad_squared_hinge(x, y, beta, l), np.zeros(d))\n",
    "    \n",
    "    # Sum things the slow way\n",
    "    x = np.random.normal(size=(d,n))\n",
    "    y = np.random.choice([1, -1], n).astype(x.dtype)\n",
    "    beta = np.random.normal(size=d)\n",
    "    l = np.random.uniform(0, 10)\n",
    "    summation = sum([y[i] * x[:,i] * max(0, 1 - y[i] * x[:,i].dot(beta)) for i in range(n)])\n",
    "    soln = -2/n * summation + 2 * l * beta\n",
    "    np.testing.assert_allclose(grad_squared_hinge(x, y, beta, l), soln)\n",
    "\n",
    "for i in range(3):\n",
    "    test_grad_squared_hinge()"
   ]
  },
  {
   "cell_type": "markdown",
   "metadata": {},
   "source": [
    "## Testing the algorithm on a simulated dataset"
   ]
  },
  {
   "cell_type": "markdown",
   "metadata": {},
   "source": [
    "### Generate a simulated dataset\n",
    "Generate a simulated dataset with 100 observations of each of 5 classes. Each observation has 60 features, each of which has a different random mean but the same within the class. The feature means are different across different classes."
   ]
  },
  {
   "cell_type": "code",
   "execution_count": 8,
   "metadata": {},
   "outputs": [],
   "source": [
    "np.random.seed(0)\n",
    "\n",
    "n = 100 # examples of each class\n",
    "d = 60 # features\n",
    "n_classes = 5\n",
    "classes = np.arange(n_classes) # Class labels\n",
    "\n",
    "# Generate the mean shifts for each feature of each class\n",
    "mean_feature_class = np.random.uniform(0, 1, size=(d, n_classes))\n",
    "\n",
    "# Generate values for each class\n",
    "X_class = list()\n",
    "for c in range(n_classes):\n",
    "    # Generate n examples for each of d features\n",
    "    x = [np.random.normal(mean_feature_class[j, c], 1, size=n) for j in range(d)]\n",
    "    \n",
    "    # Put them together into an (n x d) array\n",
    "    X_class.append(np.array(x).T)\n",
    "\n",
    "# Concatenate the generated features for each class\n",
    "X = np.concatenate(X_class)\n",
    "\n",
    "# Standardise the data\n",
    "X = preprocessing.StandardScaler().fit_transform(X)\n",
    "\n",
    "# Generate the labels\n",
    "y = np.repeat(classes, n)"
   ]
  },
  {
   "cell_type": "markdown",
   "metadata": {},
   "source": [
    "## Test the linear SVM on the simulated dataset"
   ]
  },
  {
   "cell_type": "code",
   "execution_count": 9,
   "metadata": {},
   "outputs": [],
   "source": [
    "def pick_data_ovo(x, y, pair):\n",
    "    \"\"\"Returns feature and labels of data points for only the chosen pair of classes.\n",
    "    \n",
    "    The response variables are also converted into +/- 1 labels.\n",
    "    \"\"\"\n",
    "    # Pick the data for the two classes\n",
    "    chosen = np.isin(y, pair)\n",
    "    x_chosen = x[chosen]\n",
    "    y_chosen = y[chosen]\n",
    "\n",
    "    # Convert response variables to +/- 1 labels\n",
    "    y_chosen = ((y_chosen == pair[1]) * 2 - 1).astype(x.dtype)\n",
    "    \n",
    "    return x_chosen, y_chosen"
   ]
  },
  {
   "cell_type": "code",
   "execution_count": 10,
   "metadata": {},
   "outputs": [
    {
     "name": "stdout",
     "output_type": "stream",
     "text": [
      "The trained linear SVM achieved an accuracy of 0.98 over the training set\n"
     ]
    }
   ],
   "source": [
    "x_chosen, y_chosen = pick_data_ovo(X, y, (0, 1))\n",
    "\n",
    "betas = linear_svm(x_chosen.T, y_chosen, l=1, include_steps=True)\n",
    "\n",
    "accuracy = np.mean(np.sign(x_chosen @ betas[-1]) == y_chosen)\n",
    "print('The trained linear SVM achieved an accuracy of %.2f over the training set' % accuracy)"
   ]
  },
  {
   "cell_type": "markdown",
   "metadata": {},
   "source": [
    "To illustrate the training process, we can plot the objective function and the norm of the gradient at each iteration."
   ]
  },
  {
   "cell_type": "code",
   "execution_count": 11,
   "metadata": {},
   "outputs": [
    {
     "data": {
      "text/plain": [
       "Text(0.5,1,'Norm of gradient vs iterations')"
      ]
     },
     "execution_count": 11,
     "metadata": {},
     "output_type": "execute_result"
    },
    {
     "data": {
      "image/png": "[encoded data removed]",
      "text/plain": [
       "<Figure size 864x288 with 2 Axes>"
      ]
     },
     "metadata": {},
     "output_type": "display_data"
    }
   ],
   "source": [
    "%matplotlib inline\n",
    "import matplotlib.pyplot as plt\n",
    "\n",
    "fig, (ax1, ax2) = plt.subplots(1, 2, figsize=(12,4))\n",
    "\n",
    "objective_values = [squared_hinge(x_chosen.T, y_chosen, beta=b, l=1)\n",
    "                    for b in betas]\n",
    "ax1.plot(objective_values)\n",
    "ax1.set_xlabel('Iterations')\n",
    "ax1.set_ylabel('Objective value')\n",
    "ax1.set_title('Objective values vs iterations')\n",
    "\n",
    "norm_grads = [np.linalg.norm(grad_squared_hinge(x_chosen.T, y_chosen, b, l=1))\n",
    "              for b in betas]\n",
    "ax2.plot(norm_grads)\n",
    "ax2.set_xlabel('Iterations')\n",
    "ax2.set_ylabel('Euclidean norm of the gradient')\n",
    "ax2.set_title('Norm of gradient vs iterations')"
   ]
  },
  {
   "cell_type": "markdown",
   "metadata": {},
   "source": [
    "We see that with each iteration of gradient descent, the objective values becomes smaller and the Euclidean norm of the gradient at the current weight vector gets closer to zero."
   ]
  },
  {
   "cell_type": "markdown",
   "metadata": {},
   "source": [
    "## Real world dataset\n",
    "demo file, that allows a user to launch the method on a real-world dataset of your choice, visualize the training process, and print the performance"
   ]
  },
  {
   "cell_type": "code",
   "execution_count": 12,
   "metadata": {},
   "outputs": [],
   "source": [
    "# Load the UCI ML hand-written digits datasets from sklearn\n",
    "from sklearn.datasets import load_digits\n",
    "digits = load_digits()"
   ]
  },
  {
   "cell_type": "code",
   "execution_count": 13,
   "metadata": {},
   "outputs": [
    {
     "name": "stdout",
     "output_type": "stream",
     "text": [
      "Label: 2\n"
     ]
    },
    {
     "data": {
      "text/plain": [
       "<matplotlib.image.AxesImage at 0x1b433a13208>"
      ]
     },
     "execution_count": 13,
     "metadata": {},
     "output_type": "execute_result"
    },
    {
     "data": {
      "image/png": "[encoded data removed]",
      "text/plain": [
       "<Figure size 432x288 with 1 Axes>"
      ]
     },
     "metadata": {},
     "output_type": "display_data"
    }
   ],
   "source": [
    "# Visualise the data\n",
    "\n",
    "%matplotlib inline\n",
    "import random\n",
    "import matplotlib.pyplot as plt\n",
    "\n",
    "i = random.randint(0, 100)\n",
    "\n",
    "print(\"Label: %s\" % digits.target_names[digits.target[i]])\n",
    "plt.imshow(digits.images[i], cmap='Greys')"
   ]
  },
  {
   "cell_type": "code",
   "execution_count": 14,
   "metadata": {},
   "outputs": [
    {
     "name": "stdout",
     "output_type": "stream",
     "text": [
      "Shape of \"images\": (1797, 8, 8)\n",
      "Shape of \"data\": (1797, 64)\n",
      "Shape of \"target\": (1797,)\n",
      "Shape of \"target_names\": (10,)\n"
     ]
    }
   ],
   "source": [
    "# Understand the data format\n",
    "\n",
    "print('Shape of \"images\":', digits.images.shape)\n",
    "print('Shape of \"data\":', digits.data.shape)\n",
    "print('Shape of \"target\":', digits.target.shape)\n",
    "print('Shape of \"target_names\":', digits.target_names.shape)"
   ]
  },
  {
   "cell_type": "code",
   "execution_count": 15,
   "metadata": {},
   "outputs": [],
   "source": [
    "# Standardise the data\n",
    "\n",
    "import numpy as np\n",
    "from sklearn.model_selection import train_test_split\n",
    "from sklearn import preprocessing\n",
    "\n",
    "X_train, X_test, y_train, y_test = train_test_split(\n",
    "    digits.data, digits.target, test_size=0.25, random_state=0, stratify=digits.target)\n",
    "\n",
    "scaler = preprocessing.StandardScaler()\n",
    "X_train = scaler.fit_transform(X_train).astype(np.float32)\n",
    "X_test = scaler.transform(X_test).astype(np.float32)"
   ]
  },
  {
   "cell_type": "markdown",
   "metadata": {},
   "source": [
    "First, test our SVM code on just two of the 10 classes (0 and 1) in the dataset."
   ]
  },
  {
   "cell_type": "code",
   "execution_count": 16,
   "metadata": {},
   "outputs": [
    {
     "name": "stdout",
     "output_type": "stream",
     "text": [
      "The trained linear SVM achieved an accuracy of 1.00 over the training set\n",
      "The trained linear SVM achieved an accuracy of 1.00 over the test set\n"
     ]
    }
   ],
   "source": [
    "x_train_chosen, y_train_chosen = pick_data_ovo(X_train, y_train, (0, 1))\n",
    "betas = linear_svm(x_train_chosen.T, y_train_chosen, l=1, include_steps=True)\n",
    "\n",
    "accuracy_train = np.mean(np.sign(x_train_chosen @ betas[-1]) == y_train_chosen)\n",
    "print('The trained linear SVM achieved an accuracy of %.2f over the training set' % accuracy_train)\n",
    "\n",
    "x_test_chosen, y_test_chosen = pick_data_ovo(X_test, y_test, (0, 1))\n",
    "accuracy_test = np.mean(np.sign(x_test_chosen @ betas[-1]) == y_test_chosen)\n",
    "print('The trained linear SVM achieved an accuracy of %.2f over the test set' % accuracy_test)"
   ]
  },
  {
   "cell_type": "markdown",
   "metadata": {},
   "source": [
    "### Multiclass classifier using a one-vs-rest strategy\n",
    "Now that we've confirmed that the linear SVM works to differentiate between two classes, we can construct a multiclass classifier by training one linear SVM for each class. Then, to make a prediction we can simply take the class of the linear SVM corresponding to the largest output value.\n",
    "\n",
    "We will also use cross validation to select a good value for the regularisation parameter $\\lambda$."
   ]
  },
  {
   "cell_type": "code",
   "execution_count": 17,
   "metadata": {},
   "outputs": [],
   "source": [
    "def multiclass_ovr_cv(x, y, svm, k, lambdas, **kwargs):\n",
    "    \"\"\"Trains a collection of SVMs as a one-vs-rest multiclass classifier.\n",
    "    Use k-fold cross validation to tune the regularisation parameter lambda.\n",
    "    :param x: features matrix (n x d)\n",
    "    :param y: labels vector (n x 1)\n",
    "    :param svm: linear SVM function\n",
    "    :param k: number of folds to use for cross-validation\n",
    "    :param lambdas: an iterable of lambdas to try with cross validation\n",
    "    \"\"\"\n",
    "    \n",
    "    # Find the best lambda using cross-validation\n",
    "    scores = [_cv_mean_score(x, y, svm, k, l=l, **kwargs) for l in lambdas]\n",
    "    \n",
    "    # Favour larger values of regularisation while maximising score\n",
    "    best_lambda = lambdas[np.argmax(scores)]\n",
    "    \n",
    "    # Train the SVM using the best lambda found\n",
    "    betas, labels = train_classifier_ovr(x.T, y, svm, l=best_lambda, **kwargs)\n",
    "    \n",
    "    return betas, labels, best_lambda"
   ]
  },
  {
   "cell_type": "code",
   "execution_count": 18,
   "metadata": {},
   "outputs": [],
   "source": [
    "from sklearn.utils import shuffle\n",
    "\n",
    "def _cv_mean_score(x, y, svm, k, **kwargs):\n",
    "    \"\"\"Trains the SVM, and use k-fold cross validation to calculates its\n",
    "    mean accuracy score across all folds.\n",
    "    \"\"\"\n",
    "    \n",
    "    if (x.shape[0] != y.shape[0]):\n",
    "        raise ValueError('lengths %d and %d not aligned' % (x.shape[0], y.shape[0]))\n",
    "        \n",
    "    # Shuffle and split the training data into folds\n",
    "    x, y = shuffle(x, y)\n",
    "    x_folds = np.array_split(x, k)\n",
    "    y_folds = np.array_split(y, k)\n",
    "    \n",
    "    # Calculate the scores for each fold's cross validation\n",
    "    scores = [_cv_score_fold(x_folds, y_folds, svm, i, **kwargs)\n",
    "              for i in range(k)]\n",
    "    \n",
    "    return np.mean(scores)"
   ]
  },
  {
   "cell_type": "code",
   "execution_count": 19,
   "metadata": {},
   "outputs": [],
   "source": [
    "def _cv_score_fold(x_folds, y_folds, svm, i, **kwargs):\n",
    "    \"\"\"Trains and scores an SVM for the i-th fold.\"\"\"\n",
    "    \n",
    "    if (len(x_folds) != len(y_folds)):\n",
    "        raise Exception('x_folds and y_folds should have the same count')\n",
    "    \n",
    "    # Extract the i-th fold of X as test set and concat the rest\n",
    "    xtrain = list(x_folds)\n",
    "    xtest = xtrain.pop(i)\n",
    "    xtrain = np.concatenate(xtrain)\n",
    "\n",
    "    # Extract the i-th fold of y as test set and concat the rest\n",
    "    ytrain = list(y_folds)\n",
    "    ytest = ytrain.pop(i)\n",
    "    ytrain = np.concatenate(ytrain)\n",
    "\n",
    "    # Standardise X\n",
    "    scaler = preprocessing.StandardScaler()\n",
    "    xtrain = scaler.fit_transform(xtrain)\n",
    "    xtest = scaler.transform(xtest)\n",
    "    \n",
    "    # Train the SVM\n",
    "    betas, labels = train_classifier_ovr(xtrain.T, ytrain, svm, **kwargs)\n",
    "    \n",
    "    # Calculate the score\n",
    "    predicted = predict_ovr(xtest.T, betas, labels)\n",
    "    \n",
    "    return np.mean(predicted == ytest)"
   ]
  },
  {
   "cell_type": "code",
   "execution_count": 20,
   "metadata": {},
   "outputs": [],
   "source": [
    "def train_classifier_ovr(x, y, svm, **kwargs):\n",
    "    \"\"\"Trains one SVM per label in a one-vs-rest strategy.\n",
    "    :param x: features matrix (d x n)\n",
    "    :param y: labels vector (n x 1)\n",
    "    :param svm: linear SVM function\n",
    "    \"\"\"\n",
    "    \n",
    "    if (x.shape[1] != y.shape[0]):\n",
    "        raise ValueError('lengths %d and %d not aligned' % (x.shape[1], y.shape[0]))\n",
    "    \n",
    "    labels = np.unique(y)\n",
    "    betas = [_train_classifier_label_ovr(x, y, svm, label, **kwargs)\n",
    "             for label in labels]\n",
    "    return betas, labels"
   ]
  },
  {
   "cell_type": "code",
   "execution_count": 21,
   "metadata": {},
   "outputs": [],
   "source": [
    "def _train_classifier_label_ovr(x, y, svm, label, **kwargs):\n",
    "    # Convert y to +/- 1 labels\n",
    "    y = ((y == label) * 2 - 1)\n",
    "    \n",
    "    # Train the SVM\n",
    "    return svm(x, y, **kwargs)"
   ]
  },
  {
   "cell_type": "code",
   "execution_count": 22,
   "metadata": {},
   "outputs": [],
   "source": [
    "def predict_ovr(x, betas, labels):\n",
    "    highest_score_index = np.argmax([x.T @ beta for beta in betas], axis=0)\n",
    "    predicted = np.array([labels[idx] for idx in highest_score_index])\n",
    "    return predicted"
   ]
  },
  {
   "cell_type": "markdown",
   "metadata": {},
   "source": [
    "For the generated dataset:"
   ]
  },
  {
   "cell_type": "code",
   "execution_count": 23,
   "metadata": {},
   "outputs": [
    {
     "name": "stdout",
     "output_type": "stream",
     "text": [
      "Wall time: 546 ms\n"
     ]
    }
   ],
   "source": [
    "%%time\n",
    "\n",
    "lambdas = 10.**-np.arange(0, 4)\n",
    "betas, labels, best_lambda = multiclass_ovr_cv(\n",
    "    X, y, linear_svm, k=3, lambdas=lambdas)"
   ]
  },
  {
   "cell_type": "code",
   "execution_count": 24,
   "metadata": {},
   "outputs": [
    {
     "name": "stdout",
     "output_type": "stream",
     "text": [
      "Using cross validation, we found the the best lambda = 1.0000\n",
      "The accuracy on the training set is 0.87\n"
     ]
    }
   ],
   "source": [
    "predicted = predict_ovr(X.T, betas, labels)\n",
    "accuracy = np.mean(predicted == y)\n",
    "    \n",
    "print('Using cross validation, we found the the best lambda = %.4f' % best_lambda)\n",
    "print('The accuracy on the training set is %.2f' % accuracy)"
   ]
  },
  {
   "cell_type": "markdown",
   "metadata": {},
   "source": [
    "For the digits dataset:"
   ]
  },
  {
   "cell_type": "code",
   "execution_count": 25,
   "metadata": {},
   "outputs": [
    {
     "name": "stdout",
     "output_type": "stream",
     "text": [
      "Wall time: 9.55 s\n"
     ]
    }
   ],
   "source": [
    "%%time\n",
    "\n",
    "lambdas = 10.**-np.arange(0, 4)\n",
    "betas, labels, best_lambda = multiclass_ovr_cv(\n",
    "        X_train, y_train, linear_svm, k=3, lambdas=lambdas)"
   ]
  },
  {
   "cell_type": "code",
   "execution_count": 26,
   "metadata": {},
   "outputs": [
    {
     "name": "stdout",
     "output_type": "stream",
     "text": [
      "Using cross validation, we found the the best lambda = 0.1000\n",
      "The accuracy on the test set is 0.93\n"
     ]
    }
   ],
   "source": [
    "predicted = predict_ovr(X_test.T, betas, labels)\n",
    "accuracy = np.mean(predicted == y_test)\n",
    "\n",
    "print('Using cross validation, we found the the best lambda = %.4f' % best_lambda)\n",
    "print('The accuracy on the test set is %.2f' % accuracy)"
   ]
  },
  {
   "cell_type": "markdown",
   "metadata": {},
   "source": [
    "## Comparing with scikit-learn\n",
    "First, try sklearn on the simulated dataset."
   ]
  },
  {
   "cell_type": "code",
   "execution_count": 27,
   "metadata": {},
   "outputs": [],
   "source": [
    "from sklearn.svm import LinearSVC\n",
    "from sklearn.model_selection import GridSearchCV\n",
    "\n",
    "parameters = { 'C': 10.**-np.arange(0, 4) }"
   ]
  },
  {
   "cell_type": "code",
   "execution_count": 28,
   "metadata": {},
   "outputs": [
    {
     "data": {
      "text/plain": [
       "GridSearchCV(cv=3, error_score='raise',\n",
       "       estimator=LinearSVC(C=1.0, class_weight=None, dual=True, fit_intercept=True,\n",
       "     intercept_scaling=1, loss='squared_hinge', max_iter=1000,\n",
       "     multi_class='ovr', penalty='l2', random_state=None, tol=0.0001,\n",
       "     verbose=0),\n",
       "       fit_params=None, iid=True, n_jobs=1,\n",
       "       param_grid={'C': array([1.   , 0.1  , 0.01 , 0.001])},\n",
       "       pre_dispatch='2*n_jobs', refit=True, return_train_score='warn',\n",
       "       scoring=None, verbose=0)"
      ]
     },
     "execution_count": 28,
     "metadata": {},
     "output_type": "execute_result"
    }
   ],
   "source": [
    "classifier = LinearSVC(loss='squared_hinge')\n",
    "grid = GridSearchCV(classifier, parameters, cv=3)\n",
    "\n",
    "grid.fit(X, y)"
   ]
  },
  {
   "cell_type": "code",
   "execution_count": 29,
   "metadata": {},
   "outputs": [
    {
     "name": "stdout",
     "output_type": "stream",
     "text": [
      "Using cross validation, we found the the best C = 0.0010\n",
      "The accuracy on the training set is 0.87\n"
     ]
    }
   ],
   "source": [
    "print('Using cross validation, we found the the best C = %.4f' % grid.best_params_['C'])\n",
    "accuracy = grid.score(X, y)\n",
    "print('The accuracy on the training set is %.2f' % accuracy)"
   ]
  },
  {
   "cell_type": "markdown",
   "metadata": {},
   "source": [
    "Now, try using Scikit-Learn on the digits dataset."
   ]
  },
  {
   "cell_type": "code",
   "execution_count": 30,
   "metadata": {},
   "outputs": [
    {
     "data": {
      "text/plain": [
       "GridSearchCV(cv=3, error_score='raise',\n",
       "       estimator=LinearSVC(C=1.0, class_weight=None, dual=True, fit_intercept=True,\n",
       "     intercept_scaling=1, loss='squared_hinge', max_iter=1000,\n",
       "     multi_class='ovr', penalty='l2', random_state=None, tol=0.0001,\n",
       "     verbose=0),\n",
       "       fit_params=None, iid=True, n_jobs=1,\n",
       "       param_grid={'C': array([1.   , 0.1  , 0.01 , 0.001])},\n",
       "       pre_dispatch='2*n_jobs', refit=True, return_train_score='warn',\n",
       "       scoring=None, verbose=0)"
      ]
     },
     "execution_count": 30,
     "metadata": {},
     "output_type": "execute_result"
    }
   ],
   "source": [
    "classifier = LinearSVC(loss='squared_hinge')\n",
    "grid = GridSearchCV(classifier, parameters, cv=3)\n",
    "grid.fit(X_train, y_train)"
   ]
  },
  {
   "cell_type": "code",
   "execution_count": 31,
   "metadata": {},
   "outputs": [
    {
     "name": "stdout",
     "output_type": "stream",
     "text": [
      "Using cross validation, we found the the best C = 0.1000\n",
      "The accuracy on the test set is 0.97\n"
     ]
    }
   ],
   "source": [
    "print('Using cross validation, we found the the best C = %.4f' % grid.best_params_['C'])\n",
    "accuracy = grid.score(X_test, y_test)\n",
    "print('The accuracy on the test set is %.2f' % accuracy)"
   ]
  },
  {
   "cell_type": "markdown",
   "metadata": {},
   "source": [
    "It turns out that the trained Scikit-Learn model had better accuracy than my implementation.  There are several differences - our $\\lambda$ regularisation parameter is not identical to the $C$ regularisation parameter from sklearn, so the objective function being optimised is not the same. `GridSearchCV` uses a stratified split, while my implementation of cross validation uses a fully randomised shuffle and split."
   ]
  },
  {
   "cell_type": "code",
   "execution_count": null,
   "metadata": {},
   "outputs": [],
   "source": []
  }
 ],
 "metadata": {
  "kernelspec": {
   "display_name": "Python 3",
   "language": "python",
   "name": "python3"
  },
  "language_info": {
   "codemirror_mode": {
    "name": "ipython",
    "version": 3
   },
   "file_extension": ".py",
   "mimetype": "text/x-python",
   "name": "python",
   "nbconvert_exporter": "python",
   "pygments_lexer": "ipython3",
   "version": "3.6.5"
  }
 },
 "nbformat": 4,
 "nbformat_minor": 2
}
